{
 "cells": [
  {
   "cell_type": "markdown",
   "metadata": {},
   "source": [
    "# Sampler"
   ]
  },
  {
   "cell_type": "code",
   "execution_count": 1,
   "metadata": {},
   "outputs": [],
   "source": [
    "%load_ext autoreload\n",
    "%autoreload 2"
   ]
  },
  {
   "cell_type": "code",
   "execution_count": 2,
   "metadata": {},
   "outputs": [],
   "source": [
    "from utils.data import make_dataloaders, save_model, DotDict\n",
    "from models.VAE import VanillaVAE, IWAE, NeqVAE#, FlowVAE\n",
    "from models.evidence import Estimator, NonEq_Estimator_w_a, AIS_Estimator\n",
    "from utils.targets import Gaussian_target, Gaussian_mixture, Uniform, BNAF_examples, Funnel, Banana_32\n",
    "from models.sampler import Neq_Gibbs_sampler, ISIR\n",
    "\n",
    "import seaborn as sns\n",
    "import matplotlib.pyplot as plt\n",
    "import torch\n",
    "import numpy as np\n",
    "from tqdm import tqdm\n",
    "import pdb\n",
    "\n",
    "import matplotlib.pyplot as plt\n",
    "import matplotlib.colors as mcolors\n",
    "%matplotlib inline"
   ]
  },
  {
   "cell_type": "code",
   "execution_count": 29,
   "metadata": {},
   "outputs": [],
   "source": [
    "device = torch.device(\"cuda:0\" if torch.cuda.is_available() else \"cpu\")\n",
    "torchType = torch.float32\n",
    "\n"
   ]
  },
  {
   "cell_type": "markdown",
   "metadata": {},
   "source": [
    "## Mixture of Gaussian xp"
   ]
  },
  {
   "cell_type": "code",
   "execution_count": 30,
   "metadata": {},
   "outputs": [
    {
     "data": {
      "text/plain": [
       "<torch._C.Generator at 0x7f129bca79d0>"
      ]
     },
     "execution_count": 30,
     "metadata": {},
     "output_type": "execute_result"
    }
   ],
   "source": [
    "### Fixing seed\n",
    "seed = 54\n",
    "np.random.seed(seed)\n",
    "torch.manual_seed(seed)"
   ]
  },
  {
   "cell_type": "code",
   "execution_count": 31,
   "metadata": {},
   "outputs": [],
   "source": [
    "args = DotDict()\n",
    "args.h = 0.1 ###should be prop to sigma/dim ? \n",
    "args.gamma = -1.\n",
    "args.name = 'DampedHamiltonian'# so far implemented : 'LeapFrog', 'DampedHamiltonian', 'Identity'\n",
    "dim = 40\n",
    "K = 10\n",
    "#a, a_string = torch.tensor(np.exp(-1.*np.arange(K)*dim*args.gamma*args.h)), 'exp(-dim*gamma*h*range(K))'\n",
    "a, a_string  = torch.ones(K), 'ones(K)'\n",
    "args.estimation = True\n",
    "\n",
    "\n",
    "argsp = DotDict()\n",
    "argsp.mu = torch.zeros(dim)\n",
    "argsp.cov = 2.*torch.eye(dim)\n",
    "argsp.device = device\n",
    "argsp.torchType=torchType\n",
    "prior = torch.distributions.MultivariateNormal(loc=argsp.mu, covariance_matrix=argsp.cov)\n",
    "importance_distr = torch.distributions.MultivariateNormal(loc=argsp.mu, covariance_matrix=argsp.cov)"
   ]
  },
  {
   "cell_type": "code",
   "execution_count": 32,
   "metadata": {},
   "outputs": [],
   "source": [
    "target_args = DotDict()\n",
    "target_args.device = device\n",
    "target_args.num_gauss = 25\n",
    "n_col = 5\n",
    "n_row = target_args.num_gauss//n_col\n",
    "s= 1\n",
    "u = torch.ones(dim)\n",
    "#sigma=0.01\n",
    "###create points\n",
    "var_mix= .01\n",
    "var_rest = 0.1\n",
    "sigma_vec = torch.tensor([var_mix, var_mix]+ [var_rest]*(dim-2))\n",
    "target_args.p_gaussians = [torch.tensor(.5)]*target_args.num_gauss\n",
    "locs = [torch.tensor([(i-2)*s,(j-2)*s] + [0]* (dim- 2), device = device, dtype = torchType) for i in range(n_col) for j in range(n_row)]\n",
    "target_args.locs = locs\n",
    "target_args.covs = [sigma_vec*torch.eye(dim, device = device, dtype = torchType)]*target_args.num_gauss\n",
    "\n",
    "#target_args.p_gaussians = [torch.tensor(.5)]*target_args.num_gauss\n",
    "#target_args.locs = [-s*u, s*u]\n",
    "#target_args.covs = [sigma*torch.eye(dim)]*target_args.num_gauss\n",
    "\n",
    "target_args.dim=dim\n",
    "target = Gaussian_mixture(target_args)\n",
    "loglikelihood = lambda z, x=None: (target.log_prob(z, x)).view(prior.log_prob(z).shape) - prior.log_prob(z).detach()"
   ]
  },
  {
   "cell_type": "code",
   "execution_count": 33,
   "metadata": {},
   "outputs": [
    {
     "name": "stderr",
     "output_type": "stream",
     "text": [
      "<ipython-input-33-9f33285bbe0e>:2: UserWarning: To copy construct from a tensor, it is recommended to use sourceTensor.clone().detach() or sourceTensor.clone().detach().requires_grad_(True), rather than torch.tensor(sourceTensor).\n",
      "  logvar_p = -1.*torch.log(torch.tensor(sigma_vec, dtype = torch.float32))\n",
      "<ipython-input-33-9f33285bbe0e>:3: UserWarning: To copy construct from a tensor, it is recommended to use sourceTensor.clone().detach() or sourceTensor.clone().detach().requires_grad_(True), rather than torch.tensor(sourceTensor).\n",
      "  logvar_p_transfo = alpha *torch.log(torch.tensor(sigma_vec, dtype = torch.float32))\n"
     ]
    }
   ],
   "source": [
    "alpha = -0.1\n",
    "logvar_p = -1.*torch.log(torch.tensor(sigma_vec, dtype = torch.float32)) \n",
    "logvar_p_transfo = alpha *torch.log(torch.tensor(sigma_vec, dtype = torch.float32))"
   ]
  },
  {
   "cell_type": "code",
   "execution_count": 34,
   "metadata": {},
   "outputs": [],
   "source": [
    "n_samples = 10\n",
    "len_chain = 40000\n",
    "n_chain = 1\n",
    "sampler = Neq_Gibbs_sampler(dim=dim, num_samples=n_samples, prior=prior, \n",
    "                            importance_distr=importance_distr, transformation_params=args, \n",
    "                            a=a, verbose = False,\n",
    "                            logvar_p = logvar_p, logvar_p_transfo = logvar_p_transfo)\n",
    "\n",
    "isir = ISIR(dim=dim, num_samples=n_samples, prior=prior, \n",
    "                            importance_distr=importance_distr, verbose = False)"
   ]
  },
  {
   "cell_type": "code",
   "execution_count": 35,
   "metadata": {},
   "outputs": [
    {
     "name": "stderr",
     "output_type": "stream",
     "text": [
      "  0%|          | 0/40000 [00:00<?, ?it/s]/home/achille/Documents/GitCodes/Non_equilibrium_VAE/InFiNE_code/utils/targets.py:137: UserWarning: To copy construct from a tensor, it is recommended to use sourceTensor.clone().detach() or sourceTensor.clone().detach().requires_grad_(True), rather than torch.tensor(sourceTensor).\n",
      "  return self.mixture.log_prob(z) + torch.log(torch.tensor(torch.sum(self.pis)))\n",
      "100%|██████████| 40000/40000 [7:09:30<00:00,  1.55it/s]        \n"
     ]
    }
   ],
   "source": [
    "samples, n_eff = sampler.chain_sample(len_chain,  n_chain, loglikelihood, None)"
   ]
  },
  {
   "cell_type": "code",
   "execution_count": null,
   "metadata": {},
   "outputs": [
    {
     "name": "stderr",
     "output_type": "stream",
     "text": [
      " 83%|████████▎ | 333652/400000 [8:25:35<14:22, 76.95it/s]        "
     ]
    }
   ],
   "source": [
    "samples_is, n_eff_is = isir.chain_sample(len_chain*K,  n_chain, loglikelihood, None)"
   ]
  },
  {
   "cell_type": "code",
   "execution_count": null,
   "metadata": {},
   "outputs": [],
   "source": [
    "samples_plot = np.array(samples.view(-1, dim))\n"
   ]
  },
  {
   "cell_type": "code",
   "execution_count": null,
   "metadata": {},
   "outputs": [],
   "source": [
    "plt.scatter(samples_plot[:,0], samples_plot[:,1], alpha = 0.2)"
   ]
  },
  {
   "cell_type": "code",
   "execution_count": null,
   "metadata": {},
   "outputs": [],
   "source": [
    "n_eff"
   ]
  },
  {
   "cell_type": "code",
   "execution_count": null,
   "metadata": {},
   "outputs": [],
   "source": [
    "n_eff_is"
   ]
  },
  {
   "cell_type": "code",
   "execution_count": null,
   "metadata": {},
   "outputs": [],
   "source": [
    "samples_plot_is = np.array(samples_is.view(-1, dim))"
   ]
  },
  {
   "cell_type": "code",
   "execution_count": null,
   "metadata": {},
   "outputs": [],
   "source": [
    "plt.scatter(samples_plot_is[:,0], samples_plot_is[:,1], alpha = 0.002)"
   ]
  },
  {
   "cell_type": "code",
   "execution_count": null,
   "metadata": {},
   "outputs": [],
   "source": [
    "import pyro"
   ]
  },
  {
   "cell_type": "code",
   "execution_count": null,
   "metadata": {},
   "outputs": [],
   "source": [
    "kernel = pyro.infer.HMC"
   ]
  },
  {
   "cell_type": "code",
   "execution_count": null,
   "metadata": {},
   "outputs": [],
   "source": [
    "from pyro.infer import MCMC, NUTS, HMC\n",
    "\n",
    "def energy(z):\n",
    "    z = z['points']\n",
    "    return -target.log_prob(z, None).sum()\n",
    "\n",
    "\n",
    "#kernel = HMC(potential_fn=energy, step_size = 0.1, num_steps = 4)\n",
    "kernel = NUTS(potential_fn=energy)\n",
    "init_samples = prior.sample((n_chain,))\n",
    "\n",
    "init_params = {'points': init_samples}\n",
    "mcmc = MCMC(kernel=kernel, num_samples = 50000, initial_params=init_params)\n",
    "mcmc.run()\n",
    "\n",
    "q_new = mcmc.get_samples(group_by_chain=True)[\"points\"].squeeze()"
   ]
  },
  {
   "cell_type": "code",
   "execution_count": null,
   "metadata": {},
   "outputs": [],
   "source": [
    "samples_plot_nuts = np.array(q_new.view(-1, dim))\n"
   ]
  },
  {
   "cell_type": "code",
   "execution_count": null,
   "metadata": {},
   "outputs": [],
   "source": [
    "plt.scatter(samples_plot_nuts[:,0], samples_plot_nuts[:,1], alpha = 0.02)"
   ]
  },
  {
   "cell_type": "code",
   "execution_count": null,
   "metadata": {},
   "outputs": [],
   "source": [
    "def plot_hist(samples, title = 'Histogram', bins=200, \n",
    "              gamma=0.5, ax_lims = [(-5,5), (-5,5)], \n",
    "              save_path = 'pics/histogram_test.pdf', density = True):\n",
    "    plt.close()\n",
    "    plt.figure(figsize=(5, 5), dpi=300)\n",
    "    plt.hist2d(samples[:,0], samples[:,1],bins=bins, density=density, range=[ax_lims[0], ax_lims[1]],norm=mcolors.PowerNorm(gamma))\n",
    "    plt.title(title)\n",
    "    plt.axis('on')\n",
    "    plt.xlim((ax_lims[0][0], ax_lims[0][1]))\n",
    "    plt.ylim((ax_lims[1][0], ax_lims[1][1]))\n",
    "    plt.savefig(save_path, bbox_inches='tight')\n",
    "    plt.show() \n",
    "        "
   ]
  },
  {
   "cell_type": "code",
   "execution_count": null,
   "metadata": {},
   "outputs": [],
   "source": [
    "plot_hist(samples_plot_is, title = '', gamma = 0.2,save_path = 'pics/histogram_isir.pdf')"
   ]
  },
  {
   "cell_type": "code",
   "execution_count": null,
   "metadata": {},
   "outputs": [],
   "source": [
    "plot_hist(samples_plot, title = '',save_path = 'pics/histogram_infine.pdf', gamma = 0.4)"
   ]
  },
  {
   "cell_type": "code",
   "execution_count": null,
   "metadata": {},
   "outputs": [],
   "source": [
    "plot_hist(samples_plot_nuts, title = '',save_path = 'pics/histogram_nuts.pdf', gamma = 0.4)"
   ]
  },
  {
   "cell_type": "code",
   "execution_count": null,
   "metadata": {},
   "outputs": [],
   "source": []
  },
  {
   "cell_type": "code",
   "execution_count": null,
   "metadata": {},
   "outputs": [],
   "source": []
  },
  {
   "cell_type": "code",
   "execution_count": null,
   "metadata": {},
   "outputs": [],
   "source": [
    "samples_true = target.sample((10000,))\n",
    "samples_true.shape"
   ]
  },
  {
   "cell_type": "code",
   "execution_count": null,
   "metadata": {},
   "outputs": [],
   "source": [
    "plot_hist(np.array(samples_true), title = '',save_path = 'pics/histogram_true.pdf', gamma = 0.8)"
   ]
  },
  {
   "cell_type": "code",
   "execution_count": null,
   "metadata": {},
   "outputs": [],
   "source": []
  },
  {
   "cell_type": "markdown",
   "metadata": {},
   "source": [
    "# Funnel 16 d distribution"
   ]
  },
  {
   "cell_type": "code",
   "execution_count": 4,
   "metadata": {},
   "outputs": [
    {
     "data": {
      "text/plain": [
       "<torch._C.Generator at 0x7f129bca79d0>"
      ]
     },
     "execution_count": 4,
     "metadata": {},
     "output_type": "execute_result"
    }
   ],
   "source": [
    "### Fixing seed\n",
    "seed = 54\n",
    "np.random.seed(seed)\n",
    "torch.manual_seed(seed)"
   ]
  },
  {
   "cell_type": "raw",
   "metadata": {},
   "source": [
    "####\n",
    "Params Funnel\n",
    "dim 10/20/45 \n",
    "\n",
    "K=10\n",
    "gamma = -0.2\n",
    "h = 0.3\n",
    "logvar = 0.\n",
    "clamp gradient à 10."
   ]
  },
  {
   "cell_type": "code",
   "execution_count": 5,
   "metadata": {},
   "outputs": [],
   "source": [
    "xmin = -5\n",
    "xmax = 5\n",
    "dim = 16\n",
    "args_prior = DotDict()\n",
    "args_prior.device = device\n",
    "args_prior.torchType = torchType\n",
    "args_prior.x_min = xmin\n",
    "args_prior.x_max = xmax\n",
    "args_prior.dim = dim\n",
    "prior = Uniform(args_prior)\n",
    "importance_distr = prior\n",
    "##############################################\n",
    "argsp = DotDict()\n",
    "argsp.mu = torch.zeros(dim)\n",
    "argsp.cov = 5.*torch.eye(dim)\n",
    "argsp.device = device\n",
    "argsp.torchType=torchType\n",
    "prior = torch.distributions.MultivariateNormal(loc=argsp.mu, covariance_matrix=argsp.cov)\n",
    "importance_distr = torch.distributions.MultivariateNormal(loc=argsp.mu, covariance_matrix=argsp.cov)\n",
    "##############################################\n",
    "args_target = DotDict\n",
    "args_target.device = device\n",
    "args_target.dim = dim\n",
    "target = Funnel(args_target)\n",
    "###############################################\n",
    "loglikelihood = lambda z, x=None: (target.log_prob(z, x)).view(prior.log_prob(z).shape) - prior.log_prob(z).detach()\n",
    "\n",
    "K = 10\n"
   ]
  },
  {
   "cell_type": "code",
   "execution_count": 6,
   "metadata": {},
   "outputs": [
    {
     "name": "stderr",
     "output_type": "stream",
     "text": [
      "Sample: 100%|██████████| 20000/20000 [00:41, 477.59it/s, step size=2.63e-01, acc. prob=0.924]\n"
     ]
    }
   ],
   "source": [
    "from pyro.infer import MCMC, NUTS, HMC\n",
    "\n",
    "def energy(z):\n",
    "    z_ = z['points']\n",
    "    return -target.log_prob(z_, None).sum()\n",
    "\n",
    "\n",
    "kernel = HMC(potential_fn=energy, step_size = 0.1, num_steps = K, full_mass = False)\n",
    "#kernel = NUTS(potential_fn=energy, full_mass = False)\n",
    "init_samples = prior.sample((1,))\n",
    "\n",
    "init_params = {'points': init_samples}\n",
    "mcmc = MCMC(kernel=kernel, num_samples = 10000, initial_params=init_params)\n",
    "mcmc.run()\n",
    "\n",
    "q_new = mcmc.get_samples(group_by_chain=True)[\"points\"].squeeze()"
   ]
  },
  {
   "cell_type": "code",
   "execution_count": 7,
   "metadata": {},
   "outputs": [
    {
     "data": {
      "text/plain": [
       "tensor([0.7675, 1.5753, 1.4695, 1.5135, 1.5120, 1.4781, 1.4397, 1.5125, 1.5179,\n",
       "        1.5563, 1.5923, 1.4463, 1.4947, 1.4670, 1.6852, 1.5691])"
      ]
     },
     "execution_count": 7,
     "metadata": {},
     "output_type": "execute_result"
    }
   ],
   "source": [
    "mass = mcmc.kernel._adapter.inverse_mass_matrix\n",
    "mass"
   ]
  },
  {
   "cell_type": "code",
   "execution_count": 8,
   "metadata": {},
   "outputs": [
    {
     "data": {
      "text/plain": [
       "0.26255798235247835"
      ]
     },
     "execution_count": 8,
     "metadata": {},
     "output_type": "execute_result"
    }
   ],
   "source": [
    "mcmc.kernel._adapter.step_size"
   ]
  },
  {
   "cell_type": "code",
   "execution_count": 9,
   "metadata": {},
   "outputs": [
    {
     "data": {
      "text/plain": [
       "<matplotlib.collections.PathCollection at 0x7f125c582850>"
      ]
     },
     "execution_count": 9,
     "metadata": {},
     "output_type": "execute_result"
    },
    {
     "data": {
      "image/png": "[encoded data removed]",
      "text/plain": [
       "<Figure size 432x288 with 1 Axes>"
      ]
     },
     "metadata": {
      "needs_background": "light"
     },
     "output_type": "display_data"
    }
   ],
   "source": [
    "samples_plot_hmc = np.array(q_new.view(-1, dim))\n",
    "plt.scatter(samples_plot_hmc[:,0], samples_plot_hmc[:,1], alpha = 0.2)"
   ]
  },
  {
   "cell_type": "code",
   "execution_count": 22,
   "metadata": {},
   "outputs": [],
   "source": [
    "args = DotDict()\n",
    "args.h = mcmc.kernel._adapter.step_size ###should be prop to sigma/dim ? \n",
    "args.gamma = -.2\n",
    "args.name = 'DampedHamiltonian'# so far implemented : 'LeapFrog', 'DampedHamiltonian', 'Identity'\n",
    "a, a_string  = torch.ones(K), 'ones(K)'\n",
    "args.estimation = True\n",
    "samples_grad = q_new.view(-1, dim).clone().requires_grad_(True)[:]\n",
    "ll_samples = loglikelihood(samples_grad)\n",
    "grad_ll = torch.autograd.grad(ll_samples.sum(), samples_grad)[0]\n",
    "mass = torch.var(grad_ll, dim=0)\n",
    "mass = mcmc.kernel._adapter.inverse_mass_matrix\n",
    "\n",
    "\n",
    "\n",
    "\n",
    "logvar_p = - mass.log()\n",
    "logvar_p_transfo = - mass.log()\n",
    "#logvar_p = torch.zeros(1)\n",
    "#logvar_p_transfo = torch.zeros(1)"
   ]
  },
  {
   "cell_type": "code",
   "execution_count": 23,
   "metadata": {},
   "outputs": [
    {
     "data": {
      "text/plain": [
       "tensor([0.7675, 1.5753, 1.4695, 1.5135, 1.5120, 1.4781, 1.4397, 1.5125, 1.5179,\n",
       "        1.5563, 1.5923, 1.4463, 1.4947, 1.4670, 1.6852, 1.5691])"
      ]
     },
     "execution_count": 23,
     "metadata": {},
     "output_type": "execute_result"
    }
   ],
   "source": [
    "mass"
   ]
  },
  {
   "cell_type": "code",
   "execution_count": 24,
   "metadata": {},
   "outputs": [],
   "source": [
    "n_samples = 20\n",
    "len_chain = 40000\n",
    "n_chain = 1\n",
    "sampler = Neq_Gibbs_sampler(dim=dim, num_samples=n_samples, prior=prior, \n",
    "                            importance_distr=importance_distr, transformation_params=args, \n",
    "                            a=a, verbose = False,\n",
    "                            logvar_p = logvar_p, logvar_p_transfo = logvar_p_transfo)\n",
    "\n",
    "isir = ISIR(dim=dim, num_samples=n_samples, prior=prior, \n",
    "                            importance_distr=importance_distr, verbose = False)"
   ]
  },
  {
   "cell_type": "code",
   "execution_count": 25,
   "metadata": {},
   "outputs": [
    {
     "name": "stderr",
     "output_type": "stream",
     "text": [
      "100%|██████████| 10000/10000 [06:01<00:00, 27.68it/s]\n"
     ]
    }
   ],
   "source": [
    "samples2, n_eff2 = sampler.chain_sample(len_chain,  n_chain, loglikelihood, None)"
   ]
  },
  {
   "cell_type": "code",
   "execution_count": null,
   "metadata": {},
   "outputs": [],
   "source": [
    "samples_is, n_eff_is = isir.chain_sample(len_chain*K,  n_chain, loglikelihood, None)"
   ]
  },
  {
   "cell_type": "code",
   "execution_count": 26,
   "metadata": {},
   "outputs": [
    {
     "data": {
      "text/plain": [
       "tensor(7052)"
      ]
     },
     "execution_count": 26,
     "metadata": {},
     "output_type": "execute_result"
    },
    {
     "data": {
      "image/png": "[encoded data removed]",
      "text/plain": [
       "<Figure size 432x288 with 1 Axes>"
      ]
     },
     "metadata": {
      "needs_background": "light"
     },
     "output_type": "display_data"
    }
   ],
   "source": [
    "samples_plot2 = np.array(samples2.view(-1, dim))\n",
    "\n",
    "plt.scatter(samples_plot2[:,0], samples_plot2[:,1], alpha = 0.2)\n",
    "n_eff2"
   ]
  },
  {
   "cell_type": "code",
   "execution_count": null,
   "metadata": {},
   "outputs": [],
   "source": [
    "samples_plot_is = np.array(samples_is.view(-1, dim))\n",
    "plt.scatter(samples_plot_is[:,0], samples_plot_is[:,1], alpha = 0.02)\n",
    "n_eff_is"
   ]
  },
  {
   "cell_type": "code",
   "execution_count": 15,
   "metadata": {},
   "outputs": [],
   "source": [
    "def plot_hist(samples, title = 'Histogram', bins=100, \n",
    "              gamma=0.5, ax_lims = [(-5,5), (-10,10)], \n",
    "              save_path = 'pics/histogram_test.pdf', density = True):\n",
    "    plt.close()\n",
    "    plt.figure(figsize=(5, 5), dpi=300)\n",
    "    plt.hist2d(samples[:,0], samples[:,1],bins=bins, density=density, range=[ax_lims[0], ax_lims[1]],norm=mcolors.PowerNorm(gamma))\n",
    "    plt.title(title)\n",
    "    plt.axis('off')\n",
    "    plt.xlim((ax_lims[0][0], ax_lims[0][1]))\n",
    "    plt.ylim((ax_lims[1][0], ax_lims[1][1]))\n",
    "    #plt.savefig(save_path, bbox_inches='tight')\n",
    "    plt.show() "
   ]
  },
  {
   "cell_type": "code",
   "execution_count": 28,
   "metadata": {},
   "outputs": [
    {
     "data": {
      "image/png": "[encoded data removed]",
      "text/plain": [
       "<Figure size 1500x1500 with 1 Axes>"
      ]
     },
     "metadata": {
      "needs_background": "light"
     },
     "output_type": "display_data"
    }
   ],
   "source": [
    "plot_hist(samples_plot2, title = '', gamma = 0.1,save_path = 'histogram_infine_funnel3.pdf')"
   ]
  },
  {
   "cell_type": "code",
   "execution_count": 17,
   "metadata": {},
   "outputs": [
    {
     "data": {
      "image/png": "[encoded data removed]",
      "text/plain": [
       "<Figure size 1500x1500 with 1 Axes>"
      ]
     },
     "metadata": {
      "needs_background": "light"
     },
     "output_type": "display_data"
    }
   ],
   "source": [
    "plot_hist(samples_plot_hmc, title = '', gamma = 0.2,save_path = 'pics/histogram_hmc_funnel1.pdf')"
   ]
  },
  {
   "cell_type": "code",
   "execution_count": null,
   "metadata": {},
   "outputs": [],
   "source": [
    "plot_hist(samples_plot_is, title = '', gamma = 0.2,save_path = 'pics/histogram_isir_funnel1.pdf')"
   ]
  },
  {
   "cell_type": "code",
   "execution_count": null,
   "metadata": {},
   "outputs": [],
   "source": [
    "from pyro.infer import MCMC, NUTS, HMC\n",
    "\n",
    "def energy(z):\n",
    "    z = z['points']\n",
    "    return -target.log_prob(z, None).sum()\n",
    "\n",
    "\n",
    "#kernel = HMC(potential_fn=energy, step_size = 0.1, num_steps = K, full_mass = False)\n",
    "kernel_true = NUTS(potential_fn=energy, full_mass = False)\n",
    "init_samples = prior.sample((1,))\n",
    "\n",
    "init_params = {'points': init_samples}\n",
    "mcmc_true = MCMC(kernel=kernel_true, num_samples = 100000, initial_params=init_params)\n",
    "mcmc_true.run()\n",
    "\n",
    "q_true = mcmc_true.get_samples(group_by_chain=True)[\"points\"].squeeze()"
   ]
  },
  {
   "cell_type": "code",
   "execution_count": null,
   "metadata": {},
   "outputs": [],
   "source": [
    "samples_plot_true = np.array(q_true.view(-1, dim))\n"
   ]
  },
  {
   "cell_type": "code",
   "execution_count": null,
   "metadata": {},
   "outputs": [],
   "source": [
    "plot_hist(samples_plot_true, title = '', gamma = 0.2,save_path = 'pics/histogram_true_funnel1.pdf')"
   ]
  },
  {
   "cell_type": "code",
   "execution_count": null,
   "metadata": {},
   "outputs": [],
   "source": []
  }
 ],
 "metadata": {
  "kernelspec": {
   "display_name": "Python 3",
   "language": "python",
   "name": "python3"
  },
  "language_info": {
   "codemirror_mode": {
    "name": "ipython",
    "version": 3
   },
   "file_extension": ".py",
   "mimetype": "text/x-python",
   "name": "python",
   "nbconvert_exporter": "python",
   "pygments_lexer": "ipython3",
   "version": "3.8.5"
  }
 },
 "nbformat": 4,
 "nbformat_minor": 4
}
