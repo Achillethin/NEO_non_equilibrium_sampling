{
 "cells": [
  {
   "cell_type": "code",
   "execution_count": 2,
   "metadata": {
    "colab": {
     "base_uri": "https://localhost:8080/"
    },
    "id": "EN7CtAhzsKhu",
    "outputId": "065a458e-5986-4795-ee53-1e869ae8798a"
   },
   "outputs": [
    {
     "name": "stdout",
     "output_type": "stream",
     "text": [
      "/bin/sh: nvidia-smi: command not found\n"
     ]
    }
   ],
   "source": [
    "!nvidia-smi"
   ]
  },
  {
   "cell_type": "code",
   "execution_count": 1,
   "metadata": {
    "id": "2pq5lPjqsH5Q",
    "outputId": "d89c3b0c-78cb-472d-ad0e-56d9599d2dd9"
   },
   "outputs": [],
   "source": [
    "%load_ext autoreload\n",
    "%autoreload 2"
   ]
  },
  {
   "cell_type": "code",
   "execution_count": 2,
   "metadata": {
    "id": "Vwfzh-cwsH5V"
   },
   "outputs": [
    {
     "name": "stdout",
     "output_type": "stream",
     "text": [
      "/usr/bin/sh: 1: pip: not found\n"
     ]
    }
   ],
   "source": [
    "!pip install -r requirements.txt"
   ]
  },
  {
   "cell_type": "markdown",
   "metadata": {
    "id": "hQty7hNjsH5W"
   },
   "source": [
    "## Non equilibrium VAE - Experiments"
   ]
  },
  {
   "cell_type": "code",
   "execution_count": 3,
   "metadata": {
    "id": "eGt3Z-hksH5W"
   },
   "outputs": [],
   "source": [
    "from utils.data import make_dataloaders, save_model, DotDict\n",
    "from models.VAE import VanillaVAE, IWAE, NeqVAE, FlowVAE\n",
    "\n",
    "import matplotlib.pyplot as plt\n",
    "import torch\n",
    "import numpy as np"
   ]
  },
  {
   "cell_type": "code",
   "execution_count": 6,
   "metadata": {
    "id": "dbXpOdlZsH5X"
   },
   "outputs": [],
   "source": [
    "device = torch.device(\"cuda:0\" if torch.cuda.is_available() else \"cpu\")\n",
    "train_loader, val_loader = make_dataloaders(\"fashionmnist\", 32, device)"
   ]
  },
  {
   "cell_type": "markdown",
   "metadata": {
    "id": "I9rdMWZOsH5Y"
   },
   "source": [
    "### Very simple batched training loop"
   ]
  },
  {
   "cell_type": "code",
   "execution_count": 3,
   "metadata": {
    "id": "3ZpoT0jhsH5Y"
   },
   "outputs": [],
   "source": [
    "vae = VanillaVAE(latent_dim = 4)\n",
    "vae.to(device)\n",
    "losses = []\n",
    "optim = vae.get_optimizer()\n",
    "\n",
    "for epoch in range(2):\n",
    "    for batch in train_loader:\n",
    "        optim.zero_grad()\n",
    "        loss, x_hat, z, BCE = vae.step(batch)\n",
    "        losses.append(loss.item())\n",
    "        loss.backward()\n",
    "        optim.step()"
   ]
  },
  {
   "cell_type": "code",
   "execution_count": 4,
   "metadata": {
    "id": "aKEDrpc4sH5Z"
   },
   "outputs": [
    {
     "data": {
      "text/plain": [
       "253.55210086712822"
      ]
     },
     "execution_count": 4,
     "metadata": {},
     "output_type": "execute_result"
    }
   ],
   "source": [
    "val_losses = []\n",
    "with torch.no_grad():\n",
    "    for batch in val_loader:\n",
    "        loss, _, _, _ = vae.step(batch)\n",
    "        val_losses.append(loss.item())\n",
    "np.mean(val_losses)"
   ]
  },
  {
   "cell_type": "code",
   "execution_count": 5,
   "metadata": {
    "id": "qsXyG9sRsH5a"
   },
   "outputs": [
    {
     "data": {
      "image/png": "[encoded data removed]",
      "text/plain": [
       "<Figure size 432x288 with 1 Axes>"
      ]
     },
     "metadata": {
      "needs_background": "light"
     },
     "output_type": "display_data"
    }
   ],
   "source": [
    "plt.plot(losses);"
   ]
  },
  {
   "cell_type": "code",
   "execution_count": 6,
   "metadata": {
    "id": "gBRMDnp5sH5a"
   },
   "outputs": [
    {
     "data": {
      "image/png": "[encoded data removed]",
      "text/plain": [
       "<Figure size 432x288 with 1 Axes>"
      ]
     },
     "metadata": {
      "needs_background": "light"
     },
     "output_type": "display_data"
    }
   ],
   "source": [
    "img = vae(torch.randn(1,4).to(device)).view(28,28).detach().numpy()\n",
    "plt.imshow(img, cmap=\"gray\");"
   ]
  },
  {
   "cell_type": "code",
   "execution_count": 12,
   "metadata": {},
   "outputs": [
    {
     "name": "stdout",
     "output_type": "stream",
     "text": [
      "torch.Size([10000, 784])\n"
     ]
    }
   ],
   "source": [
    "val_set = torch.Tensor().to(device)\n",
    "for batch in val_loader:\n",
    "    val_set=torch.cat((val_set, batch), 0)\n",
    "print(val_set.shape)"
   ]
  },
  {
   "cell_type": "code",
   "execution_count": 8,
   "metadata": {},
   "outputs": [
    {
     "data": {
      "text/plain": [
       "tensor(-242.2014)"
      ]
     },
     "execution_count": 8,
     "metadata": {},
     "output_type": "execute_result"
    }
   ],
   "source": [
    "vae.importance_estimate(1000, val_set[:100,].view(-1, 28*28)).mean()"
   ]
  },
  {
   "cell_type": "code",
   "execution_count": 9,
   "metadata": {},
   "outputs": [],
   "source": [
    "args_ais = DotDict()\n",
    "args_ais.name = 'LeapFrog'\n",
    "args_ais.estimation = True\n",
    "args_ais.h = 0.01\n",
    "args_ais.N_LF = 1"
   ]
  },
  {
   "cell_type": "code",
   "execution_count": 10,
   "metadata": {},
   "outputs": [
    {
     "data": {
      "text/plain": [
       "tensor(-242.2249, grad_fn=<MeanBackward0>)"
      ]
     },
     "execution_count": 10,
     "metadata": {},
     "output_type": "execute_result"
    }
   ],
   "source": [
    "vae.ais_estimate(1000, args = args_ais, K=10, dataset = val_set[:100,].view(-1, 28*28)).mean()"
   ]
  },
  {
   "cell_type": "code",
   "execution_count": 11,
   "metadata": {},
   "outputs": [],
   "source": [
    "args = DotDict()\n",
    "args.h = 0.01 ###should be prop to sigma/dim ? \n",
    "args.gamma = -1.\n",
    "args.name = 'DampedHamiltonian'# so far implemented : 'LeapFrog', 'DampedHamiltonian', 'Identity'\n",
    "dim = 4\n",
    "K = 3\n",
    "#a, a_string = torch.tensor(np.exp(-1.*np.arange(K)*dim*args.gamma*args.h)), 'exp(-dim*gamma*h*range(K))'\n",
    "a, a_string  = torch.ones(K), 'ones(K)'\n",
    "args.estimation = True"
   ]
  },
  {
   "cell_type": "code",
   "execution_count": null,
   "metadata": {},
   "outputs": [],
   "source": [
    "vae.neq_estimate(50, args = args, a=a, dataset = val_set[:100,].view(-1, 28*28)).mean()"
   ]
  },
  {
   "cell_type": "markdown",
   "metadata": {
    "id": "_LELOwYssH5a"
   },
   "source": [
    "### Easy loading and saving"
   ]
  },
  {
   "cell_type": "code",
   "execution_count": null,
   "metadata": {
    "id": "41fF8z38sH5b"
   },
   "outputs": [],
   "source": [
    "import os\n",
    "if not os.path.exists(\"./checkpoints\"):\n",
    "    os.mkdir(\"./checkpoints\")"
   ]
  },
  {
   "cell_type": "code",
   "execution_count": null,
   "metadata": {
    "id": "kz3dUo5xsH5b"
   },
   "outputs": [],
   "source": [
    "torch.save(vae, \"./checkpoints/vae.ckpt\")"
   ]
  },
  {
   "cell_type": "code",
   "execution_count": null,
   "metadata": {
    "id": "K__KxVt_sH5c"
   },
   "outputs": [],
   "source": [
    "vae = torch.load(\"./checkpoints/vae.ckpt\")\n",
    "vae.to(device)"
   ]
  },
  {
   "cell_type": "markdown",
   "metadata": {
    "id": "wGTtDH4PsH5c"
   },
   "source": [
    "## IWAE"
   ]
  },
  {
   "cell_type": "code",
   "execution_count": 7,
   "metadata": {
    "id": "mdAtzi8qsH5d"
   },
   "outputs": [
    {
     "data": {
      "text/plain": [
       "IWAE(\n",
       "  (l1_enc): Linear(in_features=784, out_features=256, bias=True)\n",
       "  (l2_enc): Linear(in_features=256, out_features=4, bias=True)\n",
       "  (l1_dec): Linear(in_features=2, out_features=256, bias=True)\n",
       "  (l2_dec): Linear(in_features=256, out_features=784, bias=True)\n",
       ")"
      ]
     },
     "execution_count": 7,
     "metadata": {},
     "output_type": "execute_result"
    }
   ],
   "source": [
    "iwae = IWAE(latent_dim=2, num_samples=5)\n",
    "iwae.to(device)"
   ]
  },
  {
   "cell_type": "code",
   "execution_count": 8,
   "metadata": {
    "id": "ip599PWhsH5d"
   },
   "outputs": [],
   "source": [
    "losses = []\n",
    "optim = iwae.get_optimizer()\n",
    "\n",
    "for epoch in range(1):\n",
    "    for batch in train_loader:\n",
    "        optim.zero_grad()\n",
    "        loss, x_hat, z, BCE = iwae.step(batch)\n",
    "        losses.append(loss.item())\n",
    "        loss.backward()\n",
    "        optim.step()"
   ]
  },
  {
   "cell_type": "code",
   "execution_count": 9,
   "metadata": {
    "id": "xr4OkHjWsH5d"
   },
   "outputs": [
    {
     "data": {
      "text/plain": [
       "268.59833114672773"
      ]
     },
     "execution_count": 9,
     "metadata": {},
     "output_type": "execute_result"
    }
   ],
   "source": [
    "val_losses = []\n",
    "with torch.no_grad():\n",
    "    for batch in val_loader:\n",
    "        loss, _, _, _ = iwae.step(batch)\n",
    "        val_losses.append(loss.item())\n",
    "np.mean(val_losses)"
   ]
  },
  {
   "cell_type": "code",
   "execution_count": 10,
   "metadata": {
    "id": "gACLVPlBsH5e"
   },
   "outputs": [
    {
     "data": {
      "image/png": "[encoded data removed]",
      "text/plain": [
       "<Figure size 432x288 with 1 Axes>"
      ]
     },
     "metadata": {
      "needs_background": "light"
     },
     "output_type": "display_data"
    }
   ],
   "source": [
    "plt.plot(losses);"
   ]
  },
  {
   "cell_type": "markdown",
   "metadata": {
    "id": "2t0w5aEZsH5e"
   },
   "source": [
    "## Flow VAE"
   ]
  },
  {
   "cell_type": "code",
   "execution_count": null,
   "metadata": {
    "id": "NloGusG9sH5e"
   },
   "outputs": [],
   "source": [
    "flowVAE = FlowVAE(num_flows=2, latent_dim=4)\n",
    "flowVAE.to(device)"
   ]
  },
  {
   "cell_type": "code",
   "execution_count": null,
   "metadata": {
    "id": "cB_RSKbjsH5f"
   },
   "outputs": [],
   "source": [
    "losses = []\n",
    "optim = flowVAE.get_optimizer()\n",
    "\n",
    "for epoch in range(5):\n",
    "    for batch in train_loader:\n",
    "        optim.zero_grad()\n",
    "        loss, x_hat, z, BCE = flowVAE.step(batch)\n",
    "        losses.append(loss.item())\n",
    "        loss.backward()\n",
    "        optim.step()"
   ]
  },
  {
   "cell_type": "code",
   "execution_count": null,
   "metadata": {
    "id": "brPhAYiXsH5f"
   },
   "outputs": [],
   "source": [
    "val_losses = []\n",
    "with torch.no_grad():\n",
    "    for batch in val_loader:\n",
    "        loss, _, _, _ = flowVAE.step(batch)\n",
    "        val_losses.append(loss.item())\n",
    "np.mean(val_losses)"
   ]
  },
  {
   "cell_type": "code",
   "execution_count": null,
   "metadata": {
    "id": "zfhct1oDsH5g"
   },
   "outputs": [],
   "source": [
    "torch.logsumexp(-torch.tensor(val_losses), dim=-1) - torch.log(torch.tensor(1.*len(val_losses)))"
   ]
  },
  {
   "cell_type": "code",
   "execution_count": null,
   "metadata": {
    "id": "anMDngKlsH5g"
   },
   "outputs": [],
   "source": [
    "plt.plot(losses);"
   ]
  },
  {
   "cell_type": "code",
   "execution_count": null,
   "metadata": {
    "id": "KOtIfWHIsH5g"
   },
   "outputs": [],
   "source": [
    "img = flowVAE(torch.randn(1,4).to(device)).view(28,28).detach().numpy()\n",
    "plt.imshow(img, cmap=\"gray\");"
   ]
  },
  {
   "cell_type": "markdown",
   "metadata": {
    "id": "i7ulmKHDsH5h"
   },
   "source": [
    "## NeqVAE Hamiltonian"
   ]
  },
  {
   "cell_type": "code",
   "execution_count": 7,
   "metadata": {
    "id": "VlHt2ObqsH5h"
   },
   "outputs": [],
   "source": [
    "args = DotDict()\n",
    "args.h = 0.1\n",
    "args.gamma = 0.1\n",
    "args.name = 'DampedHamiltonian'# so far implemented : 'LeapFrog', 'DampedHamiltonian', 'Identity'\n",
    "K = 5\n",
    "a = torch.ones(K)"
   ]
  },
  {
   "cell_type": "code",
   "execution_count": 8,
   "metadata": {
    "id": "RzqgDYgDsH5h"
   },
   "outputs": [
    {
     "data": {
      "text/plain": [
       "NeqVAE(\n",
       "  (net): SimpleNN(\n",
       "    (l1_enc): Linear(in_features=784, out_features=256, bias=True)\n",
       "    (l2_enc): Linear(in_features=256, out_features=4, bias=True)\n",
       "    (l1_dec): Linear(in_features=2, out_features=256, bias=True)\n",
       "    (l2_dec): Linear(in_features=256, out_features=784, bias=True)\n",
       "  )\n",
       "  (transformation): DampedHamiltonian()\n",
       ")"
      ]
     },
     "execution_count": 8,
     "metadata": {},
     "output_type": "execute_result"
    }
   ],
   "source": [
    "neqvae = NeqVAE(latent_dim = 2, transformation_params = args, a = a)\n",
    "neqvae.to(device)"
   ]
  },
  {
   "cell_type": "code",
   "execution_count": 9,
   "metadata": {
    "id": "BXa4DCpXsH5i"
   },
   "outputs": [],
   "source": [
    "losses = []\n",
    "elbo = []\n",
    "optim = neqvae.get_optimizer()\n",
    "clipping_value=0.1"
   ]
  },
  {
   "cell_type": "code",
   "execution_count": null,
   "metadata": {
    "id": "c2yOli9ssH5i"
   },
   "outputs": [],
   "source": [
    "for epoch in range(1):\n",
    "    for batch in train_loader:\n",
    "        optim.zero_grad()\n",
    "        loss, x_hat, z, BCE = neqvae.step(batch)\n",
    "        losses.append(loss.item())\n",
    "        elbo.append(BCE.item())\n",
    "        loss.backward()\n",
    "        torch.nn.utils.clip_grad_norm_(neqvae.parameters(), clipping_value)\n",
    "        optim.step()\n",
    "        neqvae.zero_grad()"
   ]
  },
  {
   "cell_type": "code",
   "execution_count": null,
   "metadata": {
    "id": "19MJK2oWsH5j"
   },
   "outputs": [],
   "source": [
    "torch.logsumexp(torch.tensor(elbo), dim=-1) - torch.log(torch.tensor(1.*len(elbo)))"
   ]
  },
  {
   "cell_type": "code",
   "execution_count": 13,
   "metadata": {},
   "outputs": [
    {
     "data": {
      "text/plain": [
       "tensor(-330.4888, grad_fn=<MeanBackward0>)"
      ]
     },
     "execution_count": 13,
     "metadata": {},
     "output_type": "execute_result"
    }
   ],
   "source": [
    "neqvae.neq_estimate(50, args = args, a=a, logvar_p = torch.zeros(1), logvar_p_transfo = torch.zeros(1), dataset = val_set[:100,].view(-1, 28*28)).mean()"
   ]
  },
  {
   "cell_type": "code",
   "execution_count": 15,
   "metadata": {
    "id": "5QI4MixDsH5j"
   },
   "outputs": [
    {
     "data": {
      "text/plain": [
       "(0.0, -500.0)"
      ]
     },
     "execution_count": 15,
     "metadata": {},
     "output_type": "execute_result"
    },
    {
     "data": {
      "image/png": "[encoded data removed]",
      "text/plain": [
       "<Figure size 432x288 with 1 Axes>"
      ]
     },
     "metadata": {
      "needs_background": "light"
     },
     "output_type": "display_data"
    }
   ],
   "source": [
    "plt.plot(elbo)\n",
    "plt.ylim(-0,-500)"
   ]
  },
  {
   "cell_type": "code",
   "execution_count": null,
   "metadata": {
    "id": "ayAjksZzsH5j"
   },
   "outputs": [],
   "source": [
    "img = neqvae(torch.randn(1,2).to(device)).view(28,28).detach().numpy()\n",
    "plt.imshow(img, cmap=\"gray\");"
   ]
  }
 ],
 "metadata": {
  "accelerator": "GPU",
  "colab": {
   "name": "Experiments.ipynb",
   "provenance": []
  },
  "kernelspec": {
   "display_name": "Python 3",
   "language": "python",
   "name": "python3"
  },
  "language_info": {
   "codemirror_mode": {
    "name": "ipython",
    "version": 3
   },
   "file_extension": ".py",
   "mimetype": "text/x-python",
   "name": "python",
   "nbconvert_exporter": "python",
   "pygments_lexer": "ipython3",
   "version": "3.8.5"
  },
  "toc": {
   "base_numbering": 1,
   "nav_menu": {},
   "number_sections": true,
   "sideBar": true,
   "skip_h1_title": false,
   "title_cell": "Table of Contents",
   "title_sidebar": "Contents",
   "toc_cell": false,
   "toc_position": {},
   "toc_section_display": true,
   "toc_window_display": false
  }
 },
 "nbformat": 4,
 "nbformat_minor": 4
}
